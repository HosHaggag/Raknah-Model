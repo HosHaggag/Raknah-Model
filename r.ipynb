{
 "cells": [
  {
   "cell_type": "code",
   "execution_count": 10,
   "metadata": {},
   "outputs": [
    {
     "name": "stderr",
     "output_type": "stream",
     "text": [
      "Downloading: \"https://github.com/ultralytics/yolov5/zipball/master\" to C:\\Users\\Hossam/.cache\\torch\\hub\\master.zip\n",
      "YOLOv5  2023-1-26 Python-3.10.4 torch-1.13.1+cpu CPU\n",
      "\n",
      "Fusing layers... \n",
      "Model summary: 213 layers, 7112611 parameters, 0 gradients\n",
      "Adding AutoShape... \n"
     ]
    },
    {
     "name": "stdout",
     "output_type": "stream",
     "text": [
      "26974أ54ج5د5د4\n"
     ]
    }
   ],
   "source": [
    "import time\n",
    "import torch\n",
    "from matplotlib import pyplot as plt\n",
    "import numpy as np\n",
    "import cv2\n",
    "import os\n",
    "\n",
    "model = torch.hub.load('ultralytics/yolov5', 'custom', path='yolov5/runs/train/exp3/weights/last.pt', force_reload=True)\n",
    "\n",
    "alphabet = ['Ø£', 'Ø¨', 'Øª', 'Ø«', 'Ø¬', 'Ø\\\\xad', 'Ø®', 'Ø¯', 'Ø°', 'Ø±', 'Ø²', 'Ø³', 'Ø´', 'Øµ', 'Ø¶', 'Ø·', 'Ø¸', 'Ø¹', 'Øº', 'Ù', 'Ù‚', 'Ùƒ', 'Ù„', 'Ù…', 'Ù†', 'Ù‡', 'Ùˆ', 'ÙŠ']\n",
    "names = ['أ', 'ب', 'ت', 'ث', 'ج', 'ح', 'خ', 'د', 'ذ', 'ر', 'ز', 'س', 'ش', 'ص', 'ض', 'ط', 'ظ', 'ع', 'غ', 'ف', 'ق', 'ك', 'ل', 'م', 'ن', 'هـ', 'و', 'ي']\n",
    "def annotate_arabic(img):\n",
    "    #\n",
    "    img =  cv2.cvtColor(img ,  cv2.COLOR_BGR2RGB)\n",
    "    results = model(img)\n",
    "    plate_c = []\n",
    "    plate_x = []\n",
    "    res = results.xyxy[0]\n",
    "    for i in range (len(res)):\n",
    "        x, y, w, h, p, cl = res[i]\n",
    "        x0 = int (x.item())\n",
    "        y0 = int (y.item())\n",
    "        x1 = int (w.item())\n",
    "        y1 = int (h.item())\n",
    "        c = results.names[int(cl.item())]\n",
    "        plate_x.append(x0)\n",
    "        \n",
    "        for j in range(len(alphabet)):\n",
    "            if c == alphabet[j]:\n",
    "                c = names[j]\n",
    "                \n",
    "        plate_c.append(c)\n",
    "        \n",
    "        \n",
    "    plate_x.sort()\n",
    "    p_dict = dict.fromkeys(plate_x)\n",
    "    \n",
    "    for key in p_dict:\n",
    "        for i in range(len(res)):\n",
    "            if key == int(res[i][0].item()):\n",
    "                carry = int(res[i][5].item())\n",
    "                if carry >= 10:\n",
    "                    carry = names[carry - 10]\n",
    "                p_dict[key] = carry\n",
    "                \n",
    "    p_list = list(p_dict.values())  \n",
    "    list_values = ''.join(map(str, p_list))\n",
    "    dict_values = ''.join(map(str, p_dict.values()))\n",
    "    print(dict_values)\n",
    "    return dict_values\n",
    "\n",
    "\n",
    "def run():\n",
    "    cap = cv2.VideoCapture(0)\n",
    "    #wait 10 seconds for the camera to start\n",
    "    time.sleep(5)\n",
    "    ret, image = cap.read()\n",
    "    cap.release()\n",
    "    # show the image\n",
    "    \n",
    "    annotate_arabic(image) \n",
    "    cv2.imshow(\"Image\", image)\n",
    "\n",
    "    cv2.waitKey(0)\n",
    "\n",
    "\n",
    "run()    \n",
    "    "
   ]
  }
 ],
 "metadata": {
  "kernelspec": {
   "display_name": "Python 3",
   "language": "python",
   "name": "python3"
  },
  "language_info": {
   "codemirror_mode": {
    "name": "ipython",
    "version": 3
   },
   "file_extension": ".py",
   "mimetype": "text/x-python",
   "name": "python",
   "nbconvert_exporter": "python",
   "pygments_lexer": "ipython3",
   "version": "3.10.4 (tags/v3.10.4:9d38120, Mar 23 2022, 23:13:41) [MSC v.1929 64 bit (AMD64)]"
  },
  "orig_nbformat": 4,
  "vscode": {
   "interpreter": {
    "hash": "8e3f1e21a32bcbe15450edbd97a889e47c070af7fb0322eb85831e53cc398557"
   }
  }
 },
 "nbformat": 4,
 "nbformat_minor": 2
}
